{
 "cells": [
  {
   "cell_type": "markdown",
   "metadata": {},
   "source": [
    "# Making Necessary Imports"
   ]
  },
  {
   "cell_type": "code",
   "execution_count": 1,
   "metadata": {},
   "outputs": [],
   "source": [
    "import numpy as np\n",
    "import pandas as pd\n",
    "import seaborn as sns\n",
    "import matplotlib.pyplot as plt\n",
    "from sklearn.ensemble import RandomForestRegressor\n",
    "from sklearn.metrics import mean_squared_error\n",
    "from sklearn.metrics import r2_score\n",
    "from sklearn.model_selection import train_test_split"
   ]
  },
  {
   "cell_type": "markdown",
   "metadata": {},
   "source": [
    "# Reading in data"
   ]
  },
  {
   "cell_type": "markdown",
   "metadata": {},
   "source": [
    "DATA SOURCE: https://www.kaggle.com/c/shared-bikes-demand-prediction"
   ]
  },
  {
   "cell_type": "code",
   "execution_count": 2,
   "metadata": {},
   "outputs": [],
   "source": [
    "df = pd.read_csv('DATA/day.csv')"
   ]
  },
  {
   "cell_type": "code",
   "execution_count": 3,
   "metadata": {},
   "outputs": [],
   "source": [
    "test = pd.read_csv('DATA/test.csv')"
   ]
  },
  {
   "cell_type": "code",
   "execution_count": 4,
   "metadata": {
    "scrolled": true
   },
   "outputs": [
    {
     "data": {
      "text/html": [
       "<div>\n",
       "<style scoped>\n",
       "    .dataframe tbody tr th:only-of-type {\n",
       "        vertical-align: middle;\n",
       "    }\n",
       "\n",
       "    .dataframe tbody tr th {\n",
       "        vertical-align: top;\n",
       "    }\n",
       "\n",
       "    .dataframe thead th {\n",
       "        text-align: right;\n",
       "    }\n",
       "</style>\n",
       "<table border=\"1\" class=\"dataframe\">\n",
       "  <thead>\n",
       "    <tr style=\"text-align: right;\">\n",
       "      <th></th>\n",
       "      <th>instant</th>\n",
       "      <th>dteday</th>\n",
       "      <th>season</th>\n",
       "      <th>yr</th>\n",
       "      <th>mnth</th>\n",
       "      <th>holiday</th>\n",
       "      <th>weekday</th>\n",
       "      <th>workingday</th>\n",
       "      <th>weathersit</th>\n",
       "      <th>temp</th>\n",
       "      <th>atemp</th>\n",
       "      <th>hum</th>\n",
       "      <th>windspeed</th>\n",
       "      <th>casual</th>\n",
       "      <th>registered</th>\n",
       "      <th>cnt</th>\n",
       "    </tr>\n",
       "  </thead>\n",
       "  <tbody>\n",
       "    <tr>\n",
       "      <th>0</th>\n",
       "      <td>1</td>\n",
       "      <td>01-01-2018</td>\n",
       "      <td>1</td>\n",
       "      <td>0</td>\n",
       "      <td>1</td>\n",
       "      <td>0</td>\n",
       "      <td>6</td>\n",
       "      <td>0</td>\n",
       "      <td>2</td>\n",
       "      <td>14.110847</td>\n",
       "      <td>18.18125</td>\n",
       "      <td>80.5833</td>\n",
       "      <td>10.749882</td>\n",
       "      <td>331</td>\n",
       "      <td>654</td>\n",
       "      <td>985</td>\n",
       "    </tr>\n",
       "    <tr>\n",
       "      <th>1</th>\n",
       "      <td>2</td>\n",
       "      <td>02-01-2018</td>\n",
       "      <td>1</td>\n",
       "      <td>0</td>\n",
       "      <td>1</td>\n",
       "      <td>0</td>\n",
       "      <td>0</td>\n",
       "      <td>0</td>\n",
       "      <td>2</td>\n",
       "      <td>14.902598</td>\n",
       "      <td>17.68695</td>\n",
       "      <td>69.6087</td>\n",
       "      <td>16.652113</td>\n",
       "      <td>131</td>\n",
       "      <td>670</td>\n",
       "      <td>801</td>\n",
       "    </tr>\n",
       "    <tr>\n",
       "      <th>2</th>\n",
       "      <td>3</td>\n",
       "      <td>03-01-2018</td>\n",
       "      <td>1</td>\n",
       "      <td>0</td>\n",
       "      <td>1</td>\n",
       "      <td>0</td>\n",
       "      <td>1</td>\n",
       "      <td>1</td>\n",
       "      <td>1</td>\n",
       "      <td>8.050924</td>\n",
       "      <td>9.47025</td>\n",
       "      <td>43.7273</td>\n",
       "      <td>16.636703</td>\n",
       "      <td>120</td>\n",
       "      <td>1229</td>\n",
       "      <td>1349</td>\n",
       "    </tr>\n",
       "    <tr>\n",
       "      <th>3</th>\n",
       "      <td>4</td>\n",
       "      <td>04-01-2018</td>\n",
       "      <td>1</td>\n",
       "      <td>0</td>\n",
       "      <td>1</td>\n",
       "      <td>0</td>\n",
       "      <td>2</td>\n",
       "      <td>1</td>\n",
       "      <td>1</td>\n",
       "      <td>8.200000</td>\n",
       "      <td>10.60610</td>\n",
       "      <td>59.0435</td>\n",
       "      <td>10.739832</td>\n",
       "      <td>108</td>\n",
       "      <td>1454</td>\n",
       "      <td>1562</td>\n",
       "    </tr>\n",
       "    <tr>\n",
       "      <th>4</th>\n",
       "      <td>5</td>\n",
       "      <td>05-01-2018</td>\n",
       "      <td>1</td>\n",
       "      <td>0</td>\n",
       "      <td>1</td>\n",
       "      <td>0</td>\n",
       "      <td>3</td>\n",
       "      <td>1</td>\n",
       "      <td>1</td>\n",
       "      <td>9.305237</td>\n",
       "      <td>11.46350</td>\n",
       "      <td>43.6957</td>\n",
       "      <td>12.522300</td>\n",
       "      <td>82</td>\n",
       "      <td>1518</td>\n",
       "      <td>1600</td>\n",
       "    </tr>\n",
       "  </tbody>\n",
       "</table>\n",
       "</div>"
      ],
      "text/plain": [
       "   instant      dteday  season  yr  mnth  holiday  weekday  workingday  \\\n",
       "0        1  01-01-2018       1   0     1        0        6           0   \n",
       "1        2  02-01-2018       1   0     1        0        0           0   \n",
       "2        3  03-01-2018       1   0     1        0        1           1   \n",
       "3        4  04-01-2018       1   0     1        0        2           1   \n",
       "4        5  05-01-2018       1   0     1        0        3           1   \n",
       "\n",
       "   weathersit       temp     atemp      hum  windspeed  casual  registered  \\\n",
       "0           2  14.110847  18.18125  80.5833  10.749882     331         654   \n",
       "1           2  14.902598  17.68695  69.6087  16.652113     131         670   \n",
       "2           1   8.050924   9.47025  43.7273  16.636703     120        1229   \n",
       "3           1   8.200000  10.60610  59.0435  10.739832     108        1454   \n",
       "4           1   9.305237  11.46350  43.6957  12.522300      82        1518   \n",
       "\n",
       "    cnt  \n",
       "0   985  \n",
       "1   801  \n",
       "2  1349  \n",
       "3  1562  \n",
       "4  1600  "
      ]
     },
     "execution_count": 4,
     "metadata": {},
     "output_type": "execute_result"
    }
   ],
   "source": [
    "df.head()"
   ]
  },
  {
   "cell_type": "markdown",
   "metadata": {},
   "source": [
    "# Exploratory Data Analysis"
   ]
  },
  {
   "cell_type": "code",
   "execution_count": 5,
   "metadata": {
    "scrolled": true
   },
   "outputs": [
    {
     "name": "stdout",
     "output_type": "stream",
     "text": [
      "<class 'pandas.core.frame.DataFrame'>\n",
      "RangeIndex: 499 entries, 0 to 498\n",
      "Data columns (total 16 columns):\n",
      " #   Column      Non-Null Count  Dtype  \n",
      "---  ------      --------------  -----  \n",
      " 0   instant     499 non-null    int64  \n",
      " 1   dteday      499 non-null    object \n",
      " 2   season      499 non-null    int64  \n",
      " 3   yr          499 non-null    int64  \n",
      " 4   mnth        499 non-null    int64  \n",
      " 5   holiday     499 non-null    int64  \n",
      " 6   weekday     499 non-null    int64  \n",
      " 7   workingday  499 non-null    int64  \n",
      " 8   weathersit  499 non-null    int64  \n",
      " 9   temp        499 non-null    float64\n",
      " 10  atemp       499 non-null    float64\n",
      " 11  hum         499 non-null    float64\n",
      " 12  windspeed   499 non-null    float64\n",
      " 13  casual      499 non-null    int64  \n",
      " 14  registered  499 non-null    int64  \n",
      " 15  cnt         499 non-null    int64  \n",
      "dtypes: float64(4), int64(11), object(1)\n",
      "memory usage: 62.5+ KB\n"
     ]
    }
   ],
   "source": [
    "df.info()"
   ]
  },
  {
   "cell_type": "markdown",
   "metadata": {},
   "source": [
    "**No Null values**"
   ]
  },
  {
   "cell_type": "code",
   "execution_count": 6,
   "metadata": {
    "scrolled": true
   },
   "outputs": [
    {
     "data": {
      "text/plain": [
       "instant       0\n",
       "dteday        0\n",
       "season        0\n",
       "yr            0\n",
       "mnth          0\n",
       "holiday       0\n",
       "weekday       0\n",
       "workingday    0\n",
       "weathersit    0\n",
       "temp          0\n",
       "atemp         0\n",
       "hum           0\n",
       "windspeed     0\n",
       "casual        0\n",
       "registered    0\n",
       "cnt           0\n",
       "dtype: int64"
      ]
     },
     "execution_count": 6,
     "metadata": {},
     "output_type": "execute_result"
    }
   ],
   "source": [
    "df.isnull().sum()"
   ]
  },
  {
   "cell_type": "code",
   "execution_count": 7,
   "metadata": {},
   "outputs": [
    {
     "data": {
      "text/html": [
       "<div>\n",
       "<style scoped>\n",
       "    .dataframe tbody tr th:only-of-type {\n",
       "        vertical-align: middle;\n",
       "    }\n",
       "\n",
       "    .dataframe tbody tr th {\n",
       "        vertical-align: top;\n",
       "    }\n",
       "\n",
       "    .dataframe thead th {\n",
       "        text-align: right;\n",
       "    }\n",
       "</style>\n",
       "<table border=\"1\" class=\"dataframe\">\n",
       "  <thead>\n",
       "    <tr style=\"text-align: right;\">\n",
       "      <th></th>\n",
       "      <th>instant</th>\n",
       "      <th>dteday</th>\n",
       "      <th>season</th>\n",
       "      <th>yr</th>\n",
       "      <th>mnth</th>\n",
       "      <th>holiday</th>\n",
       "      <th>weekday</th>\n",
       "      <th>workingday</th>\n",
       "      <th>weathersit</th>\n",
       "      <th>temp</th>\n",
       "      <th>atemp</th>\n",
       "      <th>hum</th>\n",
       "      <th>windspeed</th>\n",
       "      <th>casual</th>\n",
       "      <th>registered</th>\n",
       "    </tr>\n",
       "  </thead>\n",
       "  <tbody>\n",
       "    <tr>\n",
       "      <th>0</th>\n",
       "      <td>501</td>\n",
       "      <td>16-05-2019</td>\n",
       "      <td>2</td>\n",
       "      <td>1</td>\n",
       "      <td>5</td>\n",
       "      <td>0</td>\n",
       "      <td>3</td>\n",
       "      <td>1</td>\n",
       "      <td>1</td>\n",
       "      <td>26.103347</td>\n",
       "      <td>29.79875</td>\n",
       "      <td>69.7917</td>\n",
       "      <td>8.208304</td>\n",
       "      <td>991</td>\n",
       "      <td>6433</td>\n",
       "    </tr>\n",
       "    <tr>\n",
       "      <th>1</th>\n",
       "      <td>502</td>\n",
       "      <td>17-05-2019</td>\n",
       "      <td>2</td>\n",
       "      <td>1</td>\n",
       "      <td>5</td>\n",
       "      <td>0</td>\n",
       "      <td>4</td>\n",
       "      <td>1</td>\n",
       "      <td>1</td>\n",
       "      <td>24.326653</td>\n",
       "      <td>28.63065</td>\n",
       "      <td>52.0000</td>\n",
       "      <td>15.374825</td>\n",
       "      <td>1242</td>\n",
       "      <td>6142</td>\n",
       "    </tr>\n",
       "    <tr>\n",
       "      <th>2</th>\n",
       "      <td>503</td>\n",
       "      <td>18-05-2019</td>\n",
       "      <td>2</td>\n",
       "      <td>1</td>\n",
       "      <td>5</td>\n",
       "      <td>0</td>\n",
       "      <td>5</td>\n",
       "      <td>1</td>\n",
       "      <td>1</td>\n",
       "      <td>23.130847</td>\n",
       "      <td>27.55605</td>\n",
       "      <td>52.3333</td>\n",
       "      <td>9.166739</td>\n",
       "      <td>1521</td>\n",
       "      <td>6118</td>\n",
       "    </tr>\n",
       "    <tr>\n",
       "      <th>3</th>\n",
       "      <td>504</td>\n",
       "      <td>19-05-2019</td>\n",
       "      <td>2</td>\n",
       "      <td>1</td>\n",
       "      <td>5</td>\n",
       "      <td>0</td>\n",
       "      <td>6</td>\n",
       "      <td>0</td>\n",
       "      <td>1</td>\n",
       "      <td>24.600000</td>\n",
       "      <td>28.34540</td>\n",
       "      <td>45.6250</td>\n",
       "      <td>5.626325</td>\n",
       "      <td>3410</td>\n",
       "      <td>4884</td>\n",
       "    </tr>\n",
       "    <tr>\n",
       "      <th>4</th>\n",
       "      <td>505</td>\n",
       "      <td>20-05-2019</td>\n",
       "      <td>2</td>\n",
       "      <td>1</td>\n",
       "      <td>5</td>\n",
       "      <td>0</td>\n",
       "      <td>0</td>\n",
       "      <td>0</td>\n",
       "      <td>1</td>\n",
       "      <td>25.454153</td>\n",
       "      <td>29.19835</td>\n",
       "      <td>53.0417</td>\n",
       "      <td>17.042589</td>\n",
       "      <td>2704</td>\n",
       "      <td>4425</td>\n",
       "    </tr>\n",
       "  </tbody>\n",
       "</table>\n",
       "</div>"
      ],
      "text/plain": [
       "   instant      dteday  season  yr  mnth  holiday  weekday  workingday  \\\n",
       "0      501  16-05-2019       2   1     5        0        3           1   \n",
       "1      502  17-05-2019       2   1     5        0        4           1   \n",
       "2      503  18-05-2019       2   1     5        0        5           1   \n",
       "3      504  19-05-2019       2   1     5        0        6           0   \n",
       "4      505  20-05-2019       2   1     5        0        0           0   \n",
       "\n",
       "   weathersit       temp     atemp      hum  windspeed  casual  registered  \n",
       "0           1  26.103347  29.79875  69.7917   8.208304     991        6433  \n",
       "1           1  24.326653  28.63065  52.0000  15.374825    1242        6142  \n",
       "2           1  23.130847  27.55605  52.3333   9.166739    1521        6118  \n",
       "3           1  24.600000  28.34540  45.6250   5.626325    3410        4884  \n",
       "4           1  25.454153  29.19835  53.0417  17.042589    2704        4425  "
      ]
     },
     "execution_count": 7,
     "metadata": {},
     "output_type": "execute_result"
    }
   ],
   "source": [
    "test.head()"
   ]
  },
  {
   "cell_type": "markdown",
   "metadata": {},
   "source": [
    "### Dropping 'instant' column as it is unique for every row"
   ]
  },
  {
   "cell_type": "code",
   "execution_count": 8,
   "metadata": {},
   "outputs": [],
   "source": [
    "df.drop('instant',axis=1,inplace=True)"
   ]
  },
  {
   "cell_type": "markdown",
   "metadata": {},
   "source": [
    "### Checking unique values and their counts of some columns"
   ]
  },
  {
   "cell_type": "code",
   "execution_count": 9,
   "metadata": {
    "scrolled": true
   },
   "outputs": [
    {
     "data": {
      "text/html": [
       "<div>\n",
       "<style scoped>\n",
       "    .dataframe tbody tr th:only-of-type {\n",
       "        vertical-align: middle;\n",
       "    }\n",
       "\n",
       "    .dataframe tbody tr th {\n",
       "        vertical-align: top;\n",
       "    }\n",
       "\n",
       "    .dataframe thead th {\n",
       "        text-align: right;\n",
       "    }\n",
       "</style>\n",
       "<table border=\"1\" class=\"dataframe\">\n",
       "  <thead>\n",
       "    <tr style=\"text-align: right;\">\n",
       "      <th></th>\n",
       "      <th>dteday</th>\n",
       "      <th>season</th>\n",
       "      <th>yr</th>\n",
       "      <th>mnth</th>\n",
       "      <th>holiday</th>\n",
       "      <th>weekday</th>\n",
       "      <th>workingday</th>\n",
       "      <th>weathersit</th>\n",
       "      <th>temp</th>\n",
       "      <th>atemp</th>\n",
       "      <th>hum</th>\n",
       "      <th>windspeed</th>\n",
       "      <th>casual</th>\n",
       "      <th>registered</th>\n",
       "      <th>cnt</th>\n",
       "    </tr>\n",
       "  </thead>\n",
       "  <tbody>\n",
       "    <tr>\n",
       "      <th>0</th>\n",
       "      <td>01-01-2018</td>\n",
       "      <td>1</td>\n",
       "      <td>0</td>\n",
       "      <td>1</td>\n",
       "      <td>0</td>\n",
       "      <td>6</td>\n",
       "      <td>0</td>\n",
       "      <td>2</td>\n",
       "      <td>14.110847</td>\n",
       "      <td>18.18125</td>\n",
       "      <td>80.5833</td>\n",
       "      <td>10.749882</td>\n",
       "      <td>331</td>\n",
       "      <td>654</td>\n",
       "      <td>985</td>\n",
       "    </tr>\n",
       "    <tr>\n",
       "      <th>1</th>\n",
       "      <td>02-01-2018</td>\n",
       "      <td>1</td>\n",
       "      <td>0</td>\n",
       "      <td>1</td>\n",
       "      <td>0</td>\n",
       "      <td>0</td>\n",
       "      <td>0</td>\n",
       "      <td>2</td>\n",
       "      <td>14.902598</td>\n",
       "      <td>17.68695</td>\n",
       "      <td>69.6087</td>\n",
       "      <td>16.652113</td>\n",
       "      <td>131</td>\n",
       "      <td>670</td>\n",
       "      <td>801</td>\n",
       "    </tr>\n",
       "    <tr>\n",
       "      <th>2</th>\n",
       "      <td>03-01-2018</td>\n",
       "      <td>1</td>\n",
       "      <td>0</td>\n",
       "      <td>1</td>\n",
       "      <td>0</td>\n",
       "      <td>1</td>\n",
       "      <td>1</td>\n",
       "      <td>1</td>\n",
       "      <td>8.050924</td>\n",
       "      <td>9.47025</td>\n",
       "      <td>43.7273</td>\n",
       "      <td>16.636703</td>\n",
       "      <td>120</td>\n",
       "      <td>1229</td>\n",
       "      <td>1349</td>\n",
       "    </tr>\n",
       "    <tr>\n",
       "      <th>3</th>\n",
       "      <td>04-01-2018</td>\n",
       "      <td>1</td>\n",
       "      <td>0</td>\n",
       "      <td>1</td>\n",
       "      <td>0</td>\n",
       "      <td>2</td>\n",
       "      <td>1</td>\n",
       "      <td>1</td>\n",
       "      <td>8.200000</td>\n",
       "      <td>10.60610</td>\n",
       "      <td>59.0435</td>\n",
       "      <td>10.739832</td>\n",
       "      <td>108</td>\n",
       "      <td>1454</td>\n",
       "      <td>1562</td>\n",
       "    </tr>\n",
       "    <tr>\n",
       "      <th>4</th>\n",
       "      <td>05-01-2018</td>\n",
       "      <td>1</td>\n",
       "      <td>0</td>\n",
       "      <td>1</td>\n",
       "      <td>0</td>\n",
       "      <td>3</td>\n",
       "      <td>1</td>\n",
       "      <td>1</td>\n",
       "      <td>9.305237</td>\n",
       "      <td>11.46350</td>\n",
       "      <td>43.6957</td>\n",
       "      <td>12.522300</td>\n",
       "      <td>82</td>\n",
       "      <td>1518</td>\n",
       "      <td>1600</td>\n",
       "    </tr>\n",
       "  </tbody>\n",
       "</table>\n",
       "</div>"
      ],
      "text/plain": [
       "       dteday  season  yr  mnth  holiday  weekday  workingday  weathersit  \\\n",
       "0  01-01-2018       1   0     1        0        6           0           2   \n",
       "1  02-01-2018       1   0     1        0        0           0           2   \n",
       "2  03-01-2018       1   0     1        0        1           1           1   \n",
       "3  04-01-2018       1   0     1        0        2           1           1   \n",
       "4  05-01-2018       1   0     1        0        3           1           1   \n",
       "\n",
       "        temp     atemp      hum  windspeed  casual  registered   cnt  \n",
       "0  14.110847  18.18125  80.5833  10.749882     331         654   985  \n",
       "1  14.902598  17.68695  69.6087  16.652113     131         670   801  \n",
       "2   8.050924   9.47025  43.7273  16.636703     120        1229  1349  \n",
       "3   8.200000  10.60610  59.0435  10.739832     108        1454  1562  \n",
       "4   9.305237  11.46350  43.6957  12.522300      82        1518  1600  "
      ]
     },
     "execution_count": 9,
     "metadata": {},
     "output_type": "execute_result"
    }
   ],
   "source": [
    "df.head()"
   ]
  },
  {
   "cell_type": "code",
   "execution_count": 10,
   "metadata": {},
   "outputs": [
    {
     "name": "stdout",
     "output_type": "stream",
     "text": [
      "1    169\n",
      "2    147\n",
      "3     94\n",
      "4     89\n",
      "Name: season, dtype: int64\n",
      "******************\n",
      "0    365\n",
      "1    134\n",
      "Name: yr, dtype: int64\n",
      "******************\n",
      "3     62\n",
      "1     62\n",
      "4     60\n",
      "2     56\n",
      "5     45\n",
      "12    31\n",
      "10    31\n",
      "8     31\n",
      "7     31\n",
      "11    30\n",
      "9     30\n",
      "6     30\n",
      "Name: mnth, dtype: int64\n",
      "******************\n",
      "0    485\n",
      "1     14\n",
      "Name: holiday, dtype: int64\n",
      "******************\n",
      "6    72\n",
      "1    72\n",
      "0    72\n",
      "5    71\n",
      "4    71\n",
      "2    71\n",
      "3    70\n",
      "Name: weekday, dtype: int64\n",
      "******************\n",
      "1    341\n",
      "0    158\n",
      "Name: workingday, dtype: int64\n",
      "******************\n",
      "1    312\n",
      "2    170\n",
      "3     17\n",
      "Name: weathersit, dtype: int64\n",
      "******************\n",
      "120     4\n",
      "140     3\n",
      "639     3\n",
      "163     3\n",
      "244     3\n",
      "       ..\n",
      "614     1\n",
      "1639    1\n",
      "616     1\n",
      "618     1\n",
      "1026    1\n",
      "Name: casual, Length: 430, dtype: int64\n",
      "******************\n",
      "1707    3\n",
      "2549    2\n",
      "2419    2\n",
      "4665    2\n",
      "1506    2\n",
      "       ..\n",
      "1699    1\n",
      "1700    1\n",
      "1705    1\n",
      "1708    1\n",
      "4097    1\n",
      "Name: registered, Length: 473, dtype: int64\n",
      "******************\n"
     ]
    }
   ],
   "source": [
    "for col in list(df.columns)[1:-1]:\n",
    "    if df[col].dtype == 'int64':\n",
    "        print(df[col].value_counts())\n",
    "        print('*'*18)"
   ]
  },
  {
   "cell_type": "markdown",
   "metadata": {},
   "source": [
    "# Making graphs for better Visualization"
   ]
  },
  {
   "cell_type": "code",
   "execution_count": 11,
   "metadata": {
    "scrolled": true
   },
   "outputs": [
    {
     "data": {
      "text/html": [
       "<div>\n",
       "<style scoped>\n",
       "    .dataframe tbody tr th:only-of-type {\n",
       "        vertical-align: middle;\n",
       "    }\n",
       "\n",
       "    .dataframe tbody tr th {\n",
       "        vertical-align: top;\n",
       "    }\n",
       "\n",
       "    .dataframe thead th {\n",
       "        text-align: right;\n",
       "    }\n",
       "</style>\n",
       "<table border=\"1\" class=\"dataframe\">\n",
       "  <thead>\n",
       "    <tr style=\"text-align: right;\">\n",
       "      <th></th>\n",
       "      <th>yr</th>\n",
       "      <th>mnth</th>\n",
       "      <th>holiday</th>\n",
       "      <th>weekday</th>\n",
       "      <th>workingday</th>\n",
       "      <th>weathersit</th>\n",
       "      <th>temp</th>\n",
       "      <th>atemp</th>\n",
       "      <th>hum</th>\n",
       "      <th>windspeed</th>\n",
       "      <th>casual</th>\n",
       "      <th>registered</th>\n",
       "      <th>cnt</th>\n",
       "    </tr>\n",
       "    <tr>\n",
       "      <th>season</th>\n",
       "      <th></th>\n",
       "      <th></th>\n",
       "      <th></th>\n",
       "      <th></th>\n",
       "      <th></th>\n",
       "      <th></th>\n",
       "      <th></th>\n",
       "      <th></th>\n",
       "      <th></th>\n",
       "      <th></th>\n",
       "      <th></th>\n",
       "      <th></th>\n",
       "      <th></th>\n",
       "    </tr>\n",
       "  </thead>\n",
       "  <tbody>\n",
       "    <tr>\n",
       "      <th>1</th>\n",
       "      <td>79</td>\n",
       "      <td>426</td>\n",
       "      <td>6</td>\n",
       "      <td>507</td>\n",
       "      <td>113</td>\n",
       "      <td>233</td>\n",
       "      <td>2079.158601</td>\n",
       "      <td>2532.131485</td>\n",
       "      <td>9778.1223</td>\n",
       "      <td>2414.625857</td>\n",
       "      <td>57247</td>\n",
       "      <td>391659</td>\n",
       "      <td>448906</td>\n",
       "    </tr>\n",
       "    <tr>\n",
       "      <th>2</th>\n",
       "      <td>55</td>\n",
       "      <td>651</td>\n",
       "      <td>3</td>\n",
       "      <td>440</td>\n",
       "      <td>102</td>\n",
       "      <td>211</td>\n",
       "      <td>3133.105856</td>\n",
       "      <td>3669.513800</td>\n",
       "      <td>9222.1829</td>\n",
       "      <td>2059.160915</td>\n",
       "      <td>147072</td>\n",
       "      <td>523062</td>\n",
       "      <td>670134</td>\n",
       "    </tr>\n",
       "    <tr>\n",
       "      <th>3</th>\n",
       "      <td>0</td>\n",
       "      <td>723</td>\n",
       "      <td>2</td>\n",
       "      <td>282</td>\n",
       "      <td>66</td>\n",
       "      <td>125</td>\n",
       "      <td>2702.323202</td>\n",
       "      <td>3073.576850</td>\n",
       "      <td>6059.9627</td>\n",
       "      <td>1116.685355</td>\n",
       "      <td>95450</td>\n",
       "      <td>324200</td>\n",
       "      <td>419650</td>\n",
       "    </tr>\n",
       "    <tr>\n",
       "      <th>4</th>\n",
       "      <td>0</td>\n",
       "      <td>952</td>\n",
       "      <td>3</td>\n",
       "      <td>266</td>\n",
       "      <td>60</td>\n",
       "      <td>134</td>\n",
       "      <td>1556.095632</td>\n",
       "      <td>1860.719100</td>\n",
       "      <td>6177.7842</td>\n",
       "      <td>1002.571886</td>\n",
       "      <td>52813</td>\n",
       "      <td>273324</td>\n",
       "      <td>326137</td>\n",
       "    </tr>\n",
       "  </tbody>\n",
       "</table>\n",
       "</div>"
      ],
      "text/plain": [
       "        yr  mnth  holiday  weekday  workingday  weathersit         temp  \\\n",
       "season                                                                    \n",
       "1       79   426        6      507         113         233  2079.158601   \n",
       "2       55   651        3      440         102         211  3133.105856   \n",
       "3        0   723        2      282          66         125  2702.323202   \n",
       "4        0   952        3      266          60         134  1556.095632   \n",
       "\n",
       "              atemp        hum    windspeed  casual  registered     cnt  \n",
       "season                                                                   \n",
       "1       2532.131485  9778.1223  2414.625857   57247      391659  448906  \n",
       "2       3669.513800  9222.1829  2059.160915  147072      523062  670134  \n",
       "3       3073.576850  6059.9627  1116.685355   95450      324200  419650  \n",
       "4       1860.719100  6177.7842  1002.571886   52813      273324  326137  "
      ]
     },
     "execution_count": 11,
     "metadata": {},
     "output_type": "execute_result"
    }
   ],
   "source": [
    "df.groupby('season').sum()"
   ]
  },
  {
   "cell_type": "markdown",
   "metadata": {},
   "source": [
    "**<u>Observation</u>: Most rentals were made in summer and least in winters which is obvious as people dont prefer riding bikes on winters.**"
   ]
  },
  {
   "cell_type": "code",
   "execution_count": 12,
   "metadata": {
    "scrolled": true
   },
   "outputs": [
    {
     "data": {
      "image/png": "[encoded data removed]",
      "text/plain": [
       "<Figure size 432x288 with 1 Axes>"
      ]
     },
     "metadata": {
      "needs_background": "light"
     },
     "output_type": "display_data"
    }
   ],
   "source": [
    "df.groupby('season').sum()['cnt'].plot(kind='bar')\n",
    "plt.xticks(ticks=np.arange(0,4),labels = ['spring','summer','fall','winter'],rotation=40);"
   ]
  },
  {
   "cell_type": "markdown",
   "metadata": {},
   "source": [
    "**<u>Observation</u>: Following a similar pattern march, april and may recored most rentals which is because the climate during these months is ideal for riding a bike.**"
   ]
  },
  {
   "cell_type": "code",
   "execution_count": 13,
   "metadata": {
    "scrolled": true
   },
   "outputs": [
    {
     "data": {
      "image/png": "[encoded data removed]",
      "text/plain": [
       "<Figure size 432x288 with 1 Axes>"
      ]
     },
     "metadata": {
      "needs_background": "light"
     },
     "output_type": "display_data"
    }
   ],
   "source": [
    "df.groupby('mnth').sum()['cnt'].plot(kind='bar')\n",
    "plt.xticks(ticks=np.arange(0,12),labels = ['jan','feb','mar','apr','may','jun','jul','aug','sept','oct','nov','dec']);"
   ]
  },
  {
   "cell_type": "markdown",
   "metadata": {},
   "source": [
    "**<u>Observation</u>: It is also possible that in the months of march, april and may people have vacations so that is why the rentals are very high compared to other months.**"
   ]
  },
  {
   "cell_type": "code",
   "execution_count": 14,
   "metadata": {
    "scrolled": true
   },
   "outputs": [
    {
     "data": {
      "text/plain": [
       "<AxesSubplot:xlabel='holiday'>"
      ]
     },
     "execution_count": 14,
     "metadata": {},
     "output_type": "execute_result"
    },
    {
     "data": {
      "image/png": "[encoded data removed]",
      "text/plain": [
       "<Figure size 432x288 with 1 Axes>"
      ]
     },
     "metadata": {
      "needs_background": "light"
     },
     "output_type": "display_data"
    }
   ],
   "source": [
    "df.groupby('holiday').sum()['cnt'].plot(kind='bar')"
   ]
  },
  {
   "cell_type": "markdown",
   "metadata": {},
   "source": [
    "**<u>Observation</u>: The day of the week doesn't really affect the number of rentals. ALmost all days have equal rentals except for weekend where the numbers are slightly higher.**"
   ]
  },
  {
   "cell_type": "code",
   "execution_count": 15,
   "metadata": {
    "scrolled": true
   },
   "outputs": [
    {
     "data": {
      "text/plain": [
       "<AxesSubplot:xlabel='weekday'>"
      ]
     },
     "execution_count": 15,
     "metadata": {},
     "output_type": "execute_result"
    },
    {
     "data": {
      "image/png": "[encoded data removed]",
      "text/plain": [
       "<Figure size 432x288 with 1 Axes>"
      ]
     },
     "metadata": {
      "needs_background": "light"
     },
     "output_type": "display_data"
    }
   ],
   "source": [
    "df.groupby('weekday').sum()['cnt'].plot(kind='bar')"
   ]
  },
  {
   "cell_type": "markdown",
   "metadata": {},
   "source": [
    "**<u>Observation</u>: On working days people prefer taking bikes which is justified as traffic is a big problem everywhere.**"
   ]
  },
  {
   "cell_type": "code",
   "execution_count": 16,
   "metadata": {
    "scrolled": false
   },
   "outputs": [
    {
     "data": {
      "text/plain": [
       "<AxesSubplot:xlabel='workingday'>"
      ]
     },
     "execution_count": 16,
     "metadata": {},
     "output_type": "execute_result"
    },
    {
     "data": {
      "image/png": "[encoded data removed]",
      "text/plain": [
       "<Figure size 432x288 with 1 Axes>"
      ]
     },
     "metadata": {
      "needs_background": "light"
     },
     "output_type": "display_data"
    }
   ],
   "source": [
    "df.groupby('workingday').sum()['cnt'].plot(kind='bar')"
   ]
  },
  {
   "cell_type": "markdown",
   "metadata": {},
   "source": [
    "**<u>Observation</u>:Most people rent bikes in clear weather as it is very convenient. The numbers are significantly lower on other types of climate especially light snowy days as there is a risk of slipping in such weather conditions.**"
   ]
  },
  {
   "cell_type": "code",
   "execution_count": 17,
   "metadata": {
    "scrolled": true
   },
   "outputs": [
    {
     "data": {
      "image/png": "[encoded data removed]",
      "text/plain": [
       "<Figure size 432x288 with 1 Axes>"
      ]
     },
     "metadata": {
      "needs_background": "light"
     },
     "output_type": "display_data"
    }
   ],
   "source": [
    "df.groupby('weathersit').sum()['cnt'].plot(kind='bar')\n",
    "plt.xticks(ticks=np.arange(0,3),labels = ['clear','misty','light snow'],rotation=40);"
   ]
  },
  {
   "cell_type": "markdown",
   "metadata": {},
   "source": [
    "**<u>Observation</u>: Other variables such as temperature, humidity, windspeed are normally distributed.**"
   ]
  },
  {
   "cell_type": "code",
   "execution_count": 18,
   "metadata": {},
   "outputs": [
    {
     "data": {
      "image/png": "[encoded data removed]",
      "text/plain": [
       "<Figure size 864x864 with 4 Axes>"
      ]
     },
     "metadata": {
      "needs_background": "light"
     },
     "output_type": "display_data"
    }
   ],
   "source": [
    "df[['temp','atemp','hum','windspeed']].hist(figsize=(12,12));"
   ]
  },
  {
   "cell_type": "markdown",
   "metadata": {},
   "source": [
    "### 'registered' is highly correlated with count variable"
   ]
  },
  {
   "cell_type": "code",
   "execution_count": 19,
   "metadata": {},
   "outputs": [
    {
     "data": {
      "image/png": "[encoded data removed]",
      "text/plain": [
       "<Figure size 600x400 with 1 Axes>"
      ]
     },
     "metadata": {
      "needs_background": "light"
     },
     "output_type": "display_data"
    }
   ],
   "source": [
    "plt.figure(dpi=100)\n",
    "df.corr()['cnt'].iloc[:-1].sort_values().plot(kind='barh');"
   ]
  },
  {
   "cell_type": "markdown",
   "metadata": {},
   "source": [
    "## Checking correlations within variables to remove redundant variables."
   ]
  },
  {
   "cell_type": "code",
   "execution_count": 20,
   "metadata": {
    "scrolled": false
   },
   "outputs": [
    {
     "data": {
      "text/html": [
       "<div>\n",
       "<style scoped>\n",
       "    .dataframe tbody tr th:only-of-type {\n",
       "        vertical-align: middle;\n",
       "    }\n",
       "\n",
       "    .dataframe tbody tr th {\n",
       "        vertical-align: top;\n",
       "    }\n",
       "\n",
       "    .dataframe thead th {\n",
       "        text-align: right;\n",
       "    }\n",
       "</style>\n",
       "<table border=\"1\" class=\"dataframe\">\n",
       "  <thead>\n",
       "    <tr style=\"text-align: right;\">\n",
       "      <th></th>\n",
       "      <th>season</th>\n",
       "      <th>yr</th>\n",
       "      <th>mnth</th>\n",
       "      <th>holiday</th>\n",
       "      <th>weekday</th>\n",
       "      <th>workingday</th>\n",
       "      <th>weathersit</th>\n",
       "      <th>temp</th>\n",
       "      <th>atemp</th>\n",
       "      <th>hum</th>\n",
       "      <th>windspeed</th>\n",
       "      <th>casual</th>\n",
       "      <th>registered</th>\n",
       "      <th>cnt</th>\n",
       "    </tr>\n",
       "  </thead>\n",
       "  <tbody>\n",
       "    <tr>\n",
       "      <th>season</th>\n",
       "      <td>1.000000</td>\n",
       "      <td>-0.440651</td>\n",
       "      <td>0.865255</td>\n",
       "      <td>-0.009866</td>\n",
       "      <td>-0.001448</td>\n",
       "      <td>0.010286</td>\n",
       "      <td>0.048987</td>\n",
       "      <td>0.443957</td>\n",
       "      <td>0.447903</td>\n",
       "      <td>0.262581</td>\n",
       "      <td>-0.226985</td>\n",
       "      <td>0.212756</td>\n",
       "      <td>0.256280</td>\n",
       "      <td>0.283648</td>\n",
       "    </tr>\n",
       "    <tr>\n",
       "      <th>yr</th>\n",
       "      <td>-0.440651</td>\n",
       "      <td>1.000000</td>\n",
       "      <td>-0.482860</td>\n",
       "      <td>0.006585</td>\n",
       "      <td>-0.010055</td>\n",
       "      <td>-0.005552</td>\n",
       "      <td>-0.038843</td>\n",
       "      <td>-0.218894</td>\n",
       "      <td>-0.210723</td>\n",
       "      <td>-0.190814</td>\n",
       "      <td>0.121607</td>\n",
       "      <td>0.078743</td>\n",
       "      <td>0.417900</td>\n",
       "      <td>0.355828</td>\n",
       "    </tr>\n",
       "    <tr>\n",
       "      <th>mnth</th>\n",
       "      <td>0.865255</td>\n",
       "      <td>-0.482860</td>\n",
       "      <td>1.000000</td>\n",
       "      <td>0.009797</td>\n",
       "      <td>0.015901</td>\n",
       "      <td>0.002961</td>\n",
       "      <td>0.029104</td>\n",
       "      <td>0.383480</td>\n",
       "      <td>0.390125</td>\n",
       "      <td>0.264647</td>\n",
       "      <td>-0.232266</td>\n",
       "      <td>0.143103</td>\n",
       "      <td>0.175519</td>\n",
       "      <td>0.193226</td>\n",
       "    </tr>\n",
       "    <tr>\n",
       "      <th>holiday</th>\n",
       "      <td>-0.009866</td>\n",
       "      <td>0.006585</td>\n",
       "      <td>0.009797</td>\n",
       "      <td>1.000000</td>\n",
       "      <td>-0.102455</td>\n",
       "      <td>-0.249598</td>\n",
       "      <td>-0.037576</td>\n",
       "      <td>-0.028749</td>\n",
       "      <td>-0.038892</td>\n",
       "      <td>-0.049892</td>\n",
       "      <td>0.035696</td>\n",
       "      <td>0.040028</td>\n",
       "      <td>-0.107448</td>\n",
       "      <td>-0.067509</td>\n",
       "    </tr>\n",
       "    <tr>\n",
       "      <th>weekday</th>\n",
       "      <td>-0.001448</td>\n",
       "      <td>-0.010055</td>\n",
       "      <td>0.015901</td>\n",
       "      <td>-0.102455</td>\n",
       "      <td>1.000000</td>\n",
       "      <td>0.035133</td>\n",
       "      <td>0.058871</td>\n",
       "      <td>-0.012603</td>\n",
       "      <td>-0.012535</td>\n",
       "      <td>-0.027003</td>\n",
       "      <td>0.016162</td>\n",
       "      <td>0.026341</td>\n",
       "      <td>0.042210</td>\n",
       "      <td>0.043256</td>\n",
       "    </tr>\n",
       "    <tr>\n",
       "      <th>workingday</th>\n",
       "      <td>0.010286</td>\n",
       "      <td>-0.005552</td>\n",
       "      <td>0.002961</td>\n",
       "      <td>-0.249598</td>\n",
       "      <td>0.035133</td>\n",
       "      <td>1.000000</td>\n",
       "      <td>0.058771</td>\n",
       "      <td>0.058716</td>\n",
       "      <td>0.063088</td>\n",
       "      <td>0.026035</td>\n",
       "      <td>-0.009758</td>\n",
       "      <td>-0.502092</td>\n",
       "      <td>0.326616</td>\n",
       "      <td>0.053859</td>\n",
       "    </tr>\n",
       "    <tr>\n",
       "      <th>weathersit</th>\n",
       "      <td>0.048987</td>\n",
       "      <td>-0.038843</td>\n",
       "      <td>0.029104</td>\n",
       "      <td>-0.037576</td>\n",
       "      <td>0.058871</td>\n",
       "      <td>0.058771</td>\n",
       "      <td>1.000000</td>\n",
       "      <td>-0.070571</td>\n",
       "      <td>-0.072851</td>\n",
       "      <td>0.584478</td>\n",
       "      <td>0.026112</td>\n",
       "      <td>-0.216683</td>\n",
       "      <td>-0.266699</td>\n",
       "      <td>-0.293301</td>\n",
       "    </tr>\n",
       "    <tr>\n",
       "      <th>temp</th>\n",
       "      <td>0.443957</td>\n",
       "      <td>-0.218894</td>\n",
       "      <td>0.383480</td>\n",
       "      <td>-0.028749</td>\n",
       "      <td>-0.012603</td>\n",
       "      <td>0.058716</td>\n",
       "      <td>-0.070571</td>\n",
       "      <td>1.000000</td>\n",
       "      <td>0.996325</td>\n",
       "      <td>0.184930</td>\n",
       "      <td>-0.132151</td>\n",
       "      <td>0.527648</td>\n",
       "      <td>0.525363</td>\n",
       "      <td>0.617873</td>\n",
       "    </tr>\n",
       "    <tr>\n",
       "      <th>atemp</th>\n",
       "      <td>0.447903</td>\n",
       "      <td>-0.210723</td>\n",
       "      <td>0.390125</td>\n",
       "      <td>-0.038892</td>\n",
       "      <td>-0.012535</td>\n",
       "      <td>0.063088</td>\n",
       "      <td>-0.072851</td>\n",
       "      <td>0.996325</td>\n",
       "      <td>1.000000</td>\n",
       "      <td>0.195306</td>\n",
       "      <td>-0.157681</td>\n",
       "      <td>0.531608</td>\n",
       "      <td>0.537689</td>\n",
       "      <td>0.629020</td>\n",
       "    </tr>\n",
       "    <tr>\n",
       "      <th>hum</th>\n",
       "      <td>0.262581</td>\n",
       "      <td>-0.190814</td>\n",
       "      <td>0.264647</td>\n",
       "      <td>-0.049892</td>\n",
       "      <td>-0.027003</td>\n",
       "      <td>0.026035</td>\n",
       "      <td>0.584478</td>\n",
       "      <td>0.184930</td>\n",
       "      <td>0.195306</td>\n",
       "      <td>1.000000</td>\n",
       "      <td>-0.279102</td>\n",
       "      <td>-0.042922</td>\n",
       "      <td>-0.095201</td>\n",
       "      <td>-0.091001</td>\n",
       "    </tr>\n",
       "    <tr>\n",
       "      <th>windspeed</th>\n",
       "      <td>-0.226985</td>\n",
       "      <td>0.121607</td>\n",
       "      <td>-0.232266</td>\n",
       "      <td>0.035696</td>\n",
       "      <td>0.016162</td>\n",
       "      <td>-0.009758</td>\n",
       "      <td>0.026112</td>\n",
       "      <td>-0.132151</td>\n",
       "      <td>-0.157681</td>\n",
       "      <td>-0.279102</td>\n",
       "      <td>1.000000</td>\n",
       "      <td>-0.159212</td>\n",
       "      <td>-0.155970</td>\n",
       "      <td>-0.184454</td>\n",
       "    </tr>\n",
       "    <tr>\n",
       "      <th>casual</th>\n",
       "      <td>0.212756</td>\n",
       "      <td>0.078743</td>\n",
       "      <td>0.143103</td>\n",
       "      <td>0.040028</td>\n",
       "      <td>0.026341</td>\n",
       "      <td>-0.502092</td>\n",
       "      <td>-0.216683</td>\n",
       "      <td>0.527648</td>\n",
       "      <td>0.531608</td>\n",
       "      <td>-0.042922</td>\n",
       "      <td>-0.159212</td>\n",
       "      <td>1.000000</td>\n",
       "      <td>0.386416</td>\n",
       "      <td>0.697908</td>\n",
       "    </tr>\n",
       "    <tr>\n",
       "      <th>registered</th>\n",
       "      <td>0.256280</td>\n",
       "      <td>0.417900</td>\n",
       "      <td>0.175519</td>\n",
       "      <td>-0.107448</td>\n",
       "      <td>0.042210</td>\n",
       "      <td>0.326616</td>\n",
       "      <td>-0.266699</td>\n",
       "      <td>0.525363</td>\n",
       "      <td>0.537689</td>\n",
       "      <td>-0.095201</td>\n",
       "      <td>-0.155970</td>\n",
       "      <td>0.386416</td>\n",
       "      <td>1.000000</td>\n",
       "      <td>0.930240</td>\n",
       "    </tr>\n",
       "    <tr>\n",
       "      <th>cnt</th>\n",
       "      <td>0.283648</td>\n",
       "      <td>0.355828</td>\n",
       "      <td>0.193226</td>\n",
       "      <td>-0.067509</td>\n",
       "      <td>0.043256</td>\n",
       "      <td>0.053859</td>\n",
       "      <td>-0.293301</td>\n",
       "      <td>0.617873</td>\n",
       "      <td>0.629020</td>\n",
       "      <td>-0.091001</td>\n",
       "      <td>-0.184454</td>\n",
       "      <td>0.697908</td>\n",
       "      <td>0.930240</td>\n",
       "      <td>1.000000</td>\n",
       "    </tr>\n",
       "  </tbody>\n",
       "</table>\n",
       "</div>"
      ],
      "text/plain": [
       "              season        yr      mnth   holiday   weekday  workingday  \\\n",
       "season      1.000000 -0.440651  0.865255 -0.009866 -0.001448    0.010286   \n",
       "yr         -0.440651  1.000000 -0.482860  0.006585 -0.010055   -0.005552   \n",
       "mnth        0.865255 -0.482860  1.000000  0.009797  0.015901    0.002961   \n",
       "holiday    -0.009866  0.006585  0.009797  1.000000 -0.102455   -0.249598   \n",
       "weekday    -0.001448 -0.010055  0.015901 -0.102455  1.000000    0.035133   \n",
       "workingday  0.010286 -0.005552  0.002961 -0.249598  0.035133    1.000000   \n",
       "weathersit  0.048987 -0.038843  0.029104 -0.037576  0.058871    0.058771   \n",
       "temp        0.443957 -0.218894  0.383480 -0.028749 -0.012603    0.058716   \n",
       "atemp       0.447903 -0.210723  0.390125 -0.038892 -0.012535    0.063088   \n",
       "hum         0.262581 -0.190814  0.264647 -0.049892 -0.027003    0.026035   \n",
       "windspeed  -0.226985  0.121607 -0.232266  0.035696  0.016162   -0.009758   \n",
       "casual      0.212756  0.078743  0.143103  0.040028  0.026341   -0.502092   \n",
       "registered  0.256280  0.417900  0.175519 -0.107448  0.042210    0.326616   \n",
       "cnt         0.283648  0.355828  0.193226 -0.067509  0.043256    0.053859   \n",
       "\n",
       "            weathersit      temp     atemp       hum  windspeed    casual  \\\n",
       "season        0.048987  0.443957  0.447903  0.262581  -0.226985  0.212756   \n",
       "yr           -0.038843 -0.218894 -0.210723 -0.190814   0.121607  0.078743   \n",
       "mnth          0.029104  0.383480  0.390125  0.264647  -0.232266  0.143103   \n",
       "holiday      -0.037576 -0.028749 -0.038892 -0.049892   0.035696  0.040028   \n",
       "weekday       0.058871 -0.012603 -0.012535 -0.027003   0.016162  0.026341   \n",
       "workingday    0.058771  0.058716  0.063088  0.026035  -0.009758 -0.502092   \n",
       "weathersit    1.000000 -0.070571 -0.072851  0.584478   0.026112 -0.216683   \n",
       "temp         -0.070571  1.000000  0.996325  0.184930  -0.132151  0.527648   \n",
       "atemp        -0.072851  0.996325  1.000000  0.195306  -0.157681  0.531608   \n",
       "hum           0.584478  0.184930  0.195306  1.000000  -0.279102 -0.042922   \n",
       "windspeed     0.026112 -0.132151 -0.157681 -0.279102   1.000000 -0.159212   \n",
       "casual       -0.216683  0.527648  0.531608 -0.042922  -0.159212  1.000000   \n",
       "registered   -0.266699  0.525363  0.537689 -0.095201  -0.155970  0.386416   \n",
       "cnt          -0.293301  0.617873  0.629020 -0.091001  -0.184454  0.697908   \n",
       "\n",
       "            registered       cnt  \n",
       "season        0.256280  0.283648  \n",
       "yr            0.417900  0.355828  \n",
       "mnth          0.175519  0.193226  \n",
       "holiday      -0.107448 -0.067509  \n",
       "weekday       0.042210  0.043256  \n",
       "workingday    0.326616  0.053859  \n",
       "weathersit   -0.266699 -0.293301  \n",
       "temp          0.525363  0.617873  \n",
       "atemp         0.537689  0.629020  \n",
       "hum          -0.095201 -0.091001  \n",
       "windspeed    -0.155970 -0.184454  \n",
       "casual        0.386416  0.697908  \n",
       "registered    1.000000  0.930240  \n",
       "cnt           0.930240  1.000000  "
      ]
     },
     "execution_count": 20,
     "metadata": {},
     "output_type": "execute_result"
    }
   ],
   "source": [
    "df.corr()"
   ]
  },
  {
   "cell_type": "markdown",
   "metadata": {},
   "source": [
    "### Dropping 'atemp' column as it is highly correlated to 'temp' column"
   ]
  },
  {
   "cell_type": "code",
   "execution_count": 21,
   "metadata": {},
   "outputs": [],
   "source": [
    "df.drop('atemp',axis=1,inplace=True) "
   ]
  },
  {
   "cell_type": "code",
   "execution_count": 22,
   "metadata": {
    "scrolled": true
   },
   "outputs": [],
   "source": [
    "df.drop('dteday',axis=1,inplace=True)"
   ]
  },
  {
   "cell_type": "code",
   "execution_count": 23,
   "metadata": {},
   "outputs": [
    {
     "data": {
      "text/html": [
       "<div>\n",
       "<style scoped>\n",
       "    .dataframe tbody tr th:only-of-type {\n",
       "        vertical-align: middle;\n",
       "    }\n",
       "\n",
       "    .dataframe tbody tr th {\n",
       "        vertical-align: top;\n",
       "    }\n",
       "\n",
       "    .dataframe thead th {\n",
       "        text-align: right;\n",
       "    }\n",
       "</style>\n",
       "<table border=\"1\" class=\"dataframe\">\n",
       "  <thead>\n",
       "    <tr style=\"text-align: right;\">\n",
       "      <th></th>\n",
       "      <th>season</th>\n",
       "      <th>yr</th>\n",
       "      <th>mnth</th>\n",
       "      <th>holiday</th>\n",
       "      <th>weekday</th>\n",
       "      <th>workingday</th>\n",
       "      <th>weathersit</th>\n",
       "      <th>temp</th>\n",
       "      <th>hum</th>\n",
       "      <th>windspeed</th>\n",
       "      <th>casual</th>\n",
       "      <th>registered</th>\n",
       "      <th>cnt</th>\n",
       "    </tr>\n",
       "  </thead>\n",
       "  <tbody>\n",
       "    <tr>\n",
       "      <th>0</th>\n",
       "      <td>1</td>\n",
       "      <td>0</td>\n",
       "      <td>1</td>\n",
       "      <td>0</td>\n",
       "      <td>6</td>\n",
       "      <td>0</td>\n",
       "      <td>2</td>\n",
       "      <td>14.110847</td>\n",
       "      <td>80.5833</td>\n",
       "      <td>10.749882</td>\n",
       "      <td>331</td>\n",
       "      <td>654</td>\n",
       "      <td>985</td>\n",
       "    </tr>\n",
       "    <tr>\n",
       "      <th>1</th>\n",
       "      <td>1</td>\n",
       "      <td>0</td>\n",
       "      <td>1</td>\n",
       "      <td>0</td>\n",
       "      <td>0</td>\n",
       "      <td>0</td>\n",
       "      <td>2</td>\n",
       "      <td>14.902598</td>\n",
       "      <td>69.6087</td>\n",
       "      <td>16.652113</td>\n",
       "      <td>131</td>\n",
       "      <td>670</td>\n",
       "      <td>801</td>\n",
       "    </tr>\n",
       "    <tr>\n",
       "      <th>2</th>\n",
       "      <td>1</td>\n",
       "      <td>0</td>\n",
       "      <td>1</td>\n",
       "      <td>0</td>\n",
       "      <td>1</td>\n",
       "      <td>1</td>\n",
       "      <td>1</td>\n",
       "      <td>8.050924</td>\n",
       "      <td>43.7273</td>\n",
       "      <td>16.636703</td>\n",
       "      <td>120</td>\n",
       "      <td>1229</td>\n",
       "      <td>1349</td>\n",
       "    </tr>\n",
       "    <tr>\n",
       "      <th>3</th>\n",
       "      <td>1</td>\n",
       "      <td>0</td>\n",
       "      <td>1</td>\n",
       "      <td>0</td>\n",
       "      <td>2</td>\n",
       "      <td>1</td>\n",
       "      <td>1</td>\n",
       "      <td>8.200000</td>\n",
       "      <td>59.0435</td>\n",
       "      <td>10.739832</td>\n",
       "      <td>108</td>\n",
       "      <td>1454</td>\n",
       "      <td>1562</td>\n",
       "    </tr>\n",
       "    <tr>\n",
       "      <th>4</th>\n",
       "      <td>1</td>\n",
       "      <td>0</td>\n",
       "      <td>1</td>\n",
       "      <td>0</td>\n",
       "      <td>3</td>\n",
       "      <td>1</td>\n",
       "      <td>1</td>\n",
       "      <td>9.305237</td>\n",
       "      <td>43.6957</td>\n",
       "      <td>12.522300</td>\n",
       "      <td>82</td>\n",
       "      <td>1518</td>\n",
       "      <td>1600</td>\n",
       "    </tr>\n",
       "  </tbody>\n",
       "</table>\n",
       "</div>"
      ],
      "text/plain": [
       "   season  yr  mnth  holiday  weekday  workingday  weathersit       temp  \\\n",
       "0       1   0     1        0        6           0           2  14.110847   \n",
       "1       1   0     1        0        0           0           2  14.902598   \n",
       "2       1   0     1        0        1           1           1   8.050924   \n",
       "3       1   0     1        0        2           1           1   8.200000   \n",
       "4       1   0     1        0        3           1           1   9.305237   \n",
       "\n",
       "       hum  windspeed  casual  registered   cnt  \n",
       "0  80.5833  10.749882     331         654   985  \n",
       "1  69.6087  16.652113     131         670   801  \n",
       "2  43.7273  16.636703     120        1229  1349  \n",
       "3  59.0435  10.739832     108        1454  1562  \n",
       "4  43.6957  12.522300      82        1518  1600  "
      ]
     },
     "execution_count": 23,
     "metadata": {},
     "output_type": "execute_result"
    }
   ],
   "source": [
    "df.head()"
   ]
  },
  {
   "cell_type": "markdown",
   "metadata": {},
   "source": [
    "## Splitting data to train and test sets"
   ]
  },
  {
   "cell_type": "code",
   "execution_count": 24,
   "metadata": {},
   "outputs": [],
   "source": [
    "X = df.drop('cnt',axis=1)\n",
    "y = df['cnt']"
   ]
  },
  {
   "cell_type": "code",
   "execution_count": 25,
   "metadata": {
    "scrolled": true
   },
   "outputs": [],
   "source": [
    "X_train, X_test, y_train, y_test = train_test_split(X, y, test_size=0.25, random_state=101)"
   ]
  },
  {
   "cell_type": "code",
   "execution_count": 26,
   "metadata": {},
   "outputs": [
    {
     "data": {
      "text/html": [
       "<div>\n",
       "<style scoped>\n",
       "    .dataframe tbody tr th:only-of-type {\n",
       "        vertical-align: middle;\n",
       "    }\n",
       "\n",
       "    .dataframe tbody tr th {\n",
       "        vertical-align: top;\n",
       "    }\n",
       "\n",
       "    .dataframe thead th {\n",
       "        text-align: right;\n",
       "    }\n",
       "</style>\n",
       "<table border=\"1\" class=\"dataframe\">\n",
       "  <thead>\n",
       "    <tr style=\"text-align: right;\">\n",
       "      <th></th>\n",
       "      <th>season</th>\n",
       "      <th>yr</th>\n",
       "      <th>mnth</th>\n",
       "      <th>holiday</th>\n",
       "      <th>weekday</th>\n",
       "      <th>workingday</th>\n",
       "      <th>weathersit</th>\n",
       "      <th>temp</th>\n",
       "      <th>hum</th>\n",
       "      <th>windspeed</th>\n",
       "      <th>casual</th>\n",
       "      <th>registered</th>\n",
       "    </tr>\n",
       "  </thead>\n",
       "  <tbody>\n",
       "    <tr>\n",
       "      <th>336</th>\n",
       "      <td>4</td>\n",
       "      <td>0</td>\n",
       "      <td>12</td>\n",
       "      <td>0</td>\n",
       "      <td>6</td>\n",
       "      <td>0</td>\n",
       "      <td>1</td>\n",
       "      <td>12.265847</td>\n",
       "      <td>61.2917</td>\n",
       "      <td>6.417481</td>\n",
       "      <td>706</td>\n",
       "      <td>2908</td>\n",
       "    </tr>\n",
       "    <tr>\n",
       "      <th>271</th>\n",
       "      <td>4</td>\n",
       "      <td>0</td>\n",
       "      <td>9</td>\n",
       "      <td>0</td>\n",
       "      <td>4</td>\n",
       "      <td>1</td>\n",
       "      <td>1</td>\n",
       "      <td>25.283347</td>\n",
       "      <td>69.9167</td>\n",
       "      <td>11.583161</td>\n",
       "      <td>653</td>\n",
       "      <td>4186</td>\n",
       "    </tr>\n",
       "    <tr>\n",
       "      <th>141</th>\n",
       "      <td>2</td>\n",
       "      <td>0</td>\n",
       "      <td>5</td>\n",
       "      <td>0</td>\n",
       "      <td>0</td>\n",
       "      <td>0</td>\n",
       "      <td>1</td>\n",
       "      <td>24.770847</td>\n",
       "      <td>74.9583</td>\n",
       "      <td>9.916536</td>\n",
       "      <td>1576</td>\n",
       "      <td>3084</td>\n",
       "    </tr>\n",
       "    <tr>\n",
       "      <th>228</th>\n",
       "      <td>3</td>\n",
       "      <td>0</td>\n",
       "      <td>8</td>\n",
       "      <td>0</td>\n",
       "      <td>3</td>\n",
       "      <td>1</td>\n",
       "      <td>1</td>\n",
       "      <td>29.656653</td>\n",
       "      <td>57.5417</td>\n",
       "      <td>9.625689</td>\n",
       "      <td>668</td>\n",
       "      <td>4026</td>\n",
       "    </tr>\n",
       "    <tr>\n",
       "      <th>168</th>\n",
       "      <td>2</td>\n",
       "      <td>0</td>\n",
       "      <td>6</td>\n",
       "      <td>0</td>\n",
       "      <td>6</td>\n",
       "      <td>0</td>\n",
       "      <td>1</td>\n",
       "      <td>28.563347</td>\n",
       "      <td>67.0417</td>\n",
       "      <td>8.000336</td>\n",
       "      <td>1807</td>\n",
       "      <td>3312</td>\n",
       "    </tr>\n",
       "  </tbody>\n",
       "</table>\n",
       "</div>"
      ],
      "text/plain": [
       "     season  yr  mnth  holiday  weekday  workingday  weathersit       temp  \\\n",
       "336       4   0    12        0        6           0           1  12.265847   \n",
       "271       4   0     9        0        4           1           1  25.283347   \n",
       "141       2   0     5        0        0           0           1  24.770847   \n",
       "228       3   0     8        0        3           1           1  29.656653   \n",
       "168       2   0     6        0        6           0           1  28.563347   \n",
       "\n",
       "         hum  windspeed  casual  registered  \n",
       "336  61.2917   6.417481     706        2908  \n",
       "271  69.9167  11.583161     653        4186  \n",
       "141  74.9583   9.916536    1576        3084  \n",
       "228  57.5417   9.625689     668        4026  \n",
       "168  67.0417   8.000336    1807        3312  "
      ]
     },
     "execution_count": 26,
     "metadata": {},
     "output_type": "execute_result"
    }
   ],
   "source": [
    "X_train.head()"
   ]
  },
  {
   "cell_type": "markdown",
   "metadata": {},
   "source": [
    "## Model building and making Predictions"
   ]
  },
  {
   "cell_type": "code",
   "execution_count": 27,
   "metadata": {},
   "outputs": [
    {
     "name": "stdout",
     "output_type": "stream",
     "text": [
      "MEAN SQUARED ERROR: 25579.397970400005\n",
      "ROOT MEAN SQUARED ERROR: 159.9356056992939\n"
     ]
    }
   ],
   "source": [
    "rf = RandomForestRegressor()\n",
    "rf.fit(X_train, y_train)\n",
    "y_pred = rf.predict(X_test)\n",
    "\n",
    "print(f\"MEAN SQUARED ERROR: {mean_squared_error(y_test, y_pred)}\")\n",
    "print(f\"ROOT MEAN SQUARED ERROR: {np.sqrt(mean_squared_error(y_test, y_pred))}\")"
   ]
  },
  {
   "cell_type": "code",
   "execution_count": 28,
   "metadata": {},
   "outputs": [
    {
     "data": {
      "image/png": "[encoded data removed]",
      "text/plain": [
       "<Figure size 432x288 with 1 Axes>"
      ]
     },
     "metadata": {
      "needs_background": "light"
     },
     "output_type": "display_data"
    }
   ],
   "source": [
    "plt.figure()\n",
    "plt.scatter(y_test,y_pred);"
   ]
  },
  {
   "cell_type": "markdown",
   "metadata": {},
   "source": [
    "## R2_SCORE"
   ]
  },
  {
   "cell_type": "code",
   "execution_count": 33,
   "metadata": {
    "scrolled": true
   },
   "outputs": [
    {
     "data": {
      "text/plain": [
       "0.9888683860169842"
      ]
     },
     "execution_count": 33,
     "metadata": {},
     "output_type": "execute_result"
    }
   ],
   "source": [
    "r2_score(y_test,y_pred)"
   ]
  },
  {
   "cell_type": "markdown",
   "metadata": {},
   "source": [
    "## Combinig all data and training our model again"
   ]
  },
  {
   "cell_type": "code",
   "execution_count": 36,
   "metadata": {
    "scrolled": true
   },
   "outputs": [
    {
     "data": {
      "text/plain": [
       "RandomForestRegressor()"
      ]
     },
     "execution_count": 36,
     "metadata": {},
     "output_type": "execute_result"
    }
   ],
   "source": [
    "rf_final = RandomForestRegressor()\n",
    "rf_final.fit(X,y)"
   ]
  },
  {
   "cell_type": "markdown",
   "metadata": {},
   "source": [
    "## Preprocessing the given test set"
   ]
  },
  {
   "cell_type": "code",
   "execution_count": 38,
   "metadata": {},
   "outputs": [
    {
     "data": {
      "text/html": [
       "<div>\n",
       "<style scoped>\n",
       "    .dataframe tbody tr th:only-of-type {\n",
       "        vertical-align: middle;\n",
       "    }\n",
       "\n",
       "    .dataframe tbody tr th {\n",
       "        vertical-align: top;\n",
       "    }\n",
       "\n",
       "    .dataframe thead th {\n",
       "        text-align: right;\n",
       "    }\n",
       "</style>\n",
       "<table border=\"1\" class=\"dataframe\">\n",
       "  <thead>\n",
       "    <tr style=\"text-align: right;\">\n",
       "      <th></th>\n",
       "      <th>instant</th>\n",
       "      <th>dteday</th>\n",
       "      <th>season</th>\n",
       "      <th>yr</th>\n",
       "      <th>mnth</th>\n",
       "      <th>holiday</th>\n",
       "      <th>weekday</th>\n",
       "      <th>workingday</th>\n",
       "      <th>weathersit</th>\n",
       "      <th>temp</th>\n",
       "      <th>atemp</th>\n",
       "      <th>hum</th>\n",
       "      <th>windspeed</th>\n",
       "      <th>casual</th>\n",
       "      <th>registered</th>\n",
       "    </tr>\n",
       "  </thead>\n",
       "  <tbody>\n",
       "    <tr>\n",
       "      <th>0</th>\n",
       "      <td>501</td>\n",
       "      <td>16-05-2019</td>\n",
       "      <td>2</td>\n",
       "      <td>1</td>\n",
       "      <td>5</td>\n",
       "      <td>0</td>\n",
       "      <td>3</td>\n",
       "      <td>1</td>\n",
       "      <td>1</td>\n",
       "      <td>26.103347</td>\n",
       "      <td>29.79875</td>\n",
       "      <td>69.7917</td>\n",
       "      <td>8.208304</td>\n",
       "      <td>991</td>\n",
       "      <td>6433</td>\n",
       "    </tr>\n",
       "    <tr>\n",
       "      <th>1</th>\n",
       "      <td>502</td>\n",
       "      <td>17-05-2019</td>\n",
       "      <td>2</td>\n",
       "      <td>1</td>\n",
       "      <td>5</td>\n",
       "      <td>0</td>\n",
       "      <td>4</td>\n",
       "      <td>1</td>\n",
       "      <td>1</td>\n",
       "      <td>24.326653</td>\n",
       "      <td>28.63065</td>\n",
       "      <td>52.0000</td>\n",
       "      <td>15.374825</td>\n",
       "      <td>1242</td>\n",
       "      <td>6142</td>\n",
       "    </tr>\n",
       "    <tr>\n",
       "      <th>2</th>\n",
       "      <td>503</td>\n",
       "      <td>18-05-2019</td>\n",
       "      <td>2</td>\n",
       "      <td>1</td>\n",
       "      <td>5</td>\n",
       "      <td>0</td>\n",
       "      <td>5</td>\n",
       "      <td>1</td>\n",
       "      <td>1</td>\n",
       "      <td>23.130847</td>\n",
       "      <td>27.55605</td>\n",
       "      <td>52.3333</td>\n",
       "      <td>9.166739</td>\n",
       "      <td>1521</td>\n",
       "      <td>6118</td>\n",
       "    </tr>\n",
       "    <tr>\n",
       "      <th>3</th>\n",
       "      <td>504</td>\n",
       "      <td>19-05-2019</td>\n",
       "      <td>2</td>\n",
       "      <td>1</td>\n",
       "      <td>5</td>\n",
       "      <td>0</td>\n",
       "      <td>6</td>\n",
       "      <td>0</td>\n",
       "      <td>1</td>\n",
       "      <td>24.600000</td>\n",
       "      <td>28.34540</td>\n",
       "      <td>45.6250</td>\n",
       "      <td>5.626325</td>\n",
       "      <td>3410</td>\n",
       "      <td>4884</td>\n",
       "    </tr>\n",
       "    <tr>\n",
       "      <th>4</th>\n",
       "      <td>505</td>\n",
       "      <td>20-05-2019</td>\n",
       "      <td>2</td>\n",
       "      <td>1</td>\n",
       "      <td>5</td>\n",
       "      <td>0</td>\n",
       "      <td>0</td>\n",
       "      <td>0</td>\n",
       "      <td>1</td>\n",
       "      <td>25.454153</td>\n",
       "      <td>29.19835</td>\n",
       "      <td>53.0417</td>\n",
       "      <td>17.042589</td>\n",
       "      <td>2704</td>\n",
       "      <td>4425</td>\n",
       "    </tr>\n",
       "  </tbody>\n",
       "</table>\n",
       "</div>"
      ],
      "text/plain": [
       "   instant      dteday  season  yr  mnth  holiday  weekday  workingday  \\\n",
       "0      501  16-05-2019       2   1     5        0        3           1   \n",
       "1      502  17-05-2019       2   1     5        0        4           1   \n",
       "2      503  18-05-2019       2   1     5        0        5           1   \n",
       "3      504  19-05-2019       2   1     5        0        6           0   \n",
       "4      505  20-05-2019       2   1     5        0        0           0   \n",
       "\n",
       "   weathersit       temp     atemp      hum  windspeed  casual  registered  \n",
       "0           1  26.103347  29.79875  69.7917   8.208304     991        6433  \n",
       "1           1  24.326653  28.63065  52.0000  15.374825    1242        6142  \n",
       "2           1  23.130847  27.55605  52.3333   9.166739    1521        6118  \n",
       "3           1  24.600000  28.34540  45.6250   5.626325    3410        4884  \n",
       "4           1  25.454153  29.19835  53.0417  17.042589    2704        4425  "
      ]
     },
     "execution_count": 38,
     "metadata": {},
     "output_type": "execute_result"
    }
   ],
   "source": [
    "test.head()"
   ]
  },
  {
   "cell_type": "code",
   "execution_count": 39,
   "metadata": {},
   "outputs": [],
   "source": [
    "test.drop(['instant','dteday','atemp'],axis=1,inplace=True)"
   ]
  },
  {
   "cell_type": "code",
   "execution_count": 42,
   "metadata": {},
   "outputs": [
    {
     "data": {
      "text/plain": [
       "(230, 12)"
      ]
     },
     "execution_count": 42,
     "metadata": {},
     "output_type": "execute_result"
    }
   ],
   "source": [
    "test.shape"
   ]
  },
  {
   "cell_type": "markdown",
   "metadata": {},
   "source": [
    "## Making Predictions of test set"
   ]
  },
  {
   "cell_type": "code",
   "execution_count": 44,
   "metadata": {},
   "outputs": [],
   "source": [
    "y_pred_final = rf_final.predict(test)"
   ]
  },
  {
   "cell_type": "code",
   "execution_count": 47,
   "metadata": {},
   "outputs": [],
   "source": [
    "#y_pred_final"
   ]
  }
 ],
 "metadata": {
  "kernelspec": {
   "display_name": "Python 3",
   "language": "python",
   "name": "python3"
  },
  "language_info": {
   "codemirror_mode": {
    "name": "ipython",
    "version": 3
   },
   "file_extension": ".py",
   "mimetype": "text/x-python",
   "name": "python",
   "nbconvert_exporter": "python",
   "pygments_lexer": "ipython3",
   "version": "3.7.9"
  }
 },
 "nbformat": 4,
 "nbformat_minor": 4
}
